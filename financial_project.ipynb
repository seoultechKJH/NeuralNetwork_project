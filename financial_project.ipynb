{
 "cells": [
  {
   "cell_type": "code",
   "execution_count": 1,
   "id": "e7c16ca1",
   "metadata": {},
   "outputs": [],
   "source": [
    "import torch\n",
    "import numpy as np\n",
    "import pandas as pd\n",
    "import matplotlib.pyplot as plt\n",
    "import torch.nn as nn\n",
    "import torch.nn.functional as F\n",
    "from torch.utils.data.dataloader import DataLoader\n",
    "from torch.utils.data import random_split\n",
    "from imblearn.over_sampling import SMOTE"
   ]
  },
  {
   "cell_type": "code",
   "execution_count": 2,
   "id": "f60e4a41",
   "metadata": {},
   "outputs": [],
   "source": [
    "dataset = pd.read_csv('project_dataset.csv')"
   ]
  },
  {
   "cell_type": "code",
   "execution_count": 3,
   "id": "a46e192a",
   "metadata": {},
   "outputs": [
    {
     "name": "stdout",
     "output_type": "stream",
     "text": [
      "     자기자본비율      고정비율    유형자산비율   현금성자산비율          현금비율      부채비율  자기자본대비부채비율  \\\n",
      "0  0.629476  0.516001  0.384135  0.077085  6.010060e-07  0.169842    0.114559   \n",
      "1  0.601747  0.527684  0.635552  0.051357  2.890029e-07  0.205937    0.116348   \n",
      "2  0.729694  0.510609  0.290691  0.022513  7.590076e-07  0.037086    0.112401   \n",
      "3  0.691703  0.509349  0.135361  0.317588  8.640086e-06  0.086662    0.112874   \n",
      "4  0.656332  0.507823  0.013248  0.013065  5.410054e-07  0.133871    0.113608   \n",
      "\n",
      "           유동비율          당좌비율  \n",
      "0  7.835997e-07  6.395845e-07  \n",
      "1  5.642685e-07  4.826426e-07  \n",
      "2  3.376644e-06  2.127172e-06  \n",
      "3  2.730631e-06  2.730631e-06  \n",
      "4  4.169564e-06  3.033638e-06  \n",
      "Counter({2: 3624, 1: 1175, 0: 454, 3: 198})\n",
      "(11584, 9)\n",
      "(11584,)\n"
     ]
    }
   ],
   "source": [
    "from sklearn.model_selection import train_test_split\n",
    "from collections import Counter\n",
    "from sklearn import preprocessing\n",
    "\n",
    "min_max_scaler = preprocessing.MinMaxScaler()\n",
    "\n",
    "x_train_set = dataset.drop('산업분야', axis=1)\n",
    "x_train = min_max_scaler.fit_transform(x_train_set)\n",
    "x_train = pd.DataFrame(x_train, columns = x_train_set.columns.tolist())\n",
    "print(x_train.head())\n",
    "x_train = x_train.values\n",
    "\n",
    "y_train = (dataset['산업분야']).values\n",
    "\n",
    "print(Counter(y_train))\n",
    "x_train, x_test, y_train, y_test = train_test_split(x_train, y_train, test_size=0.2)\n",
    "\n",
    "smote = SMOTE()\n",
    "x_train, y_train = smote.fit_resample(x_train, y_train)\n",
    "print(np.shape(x_train))\n",
    "print(np.shape(y_train))"
   ]
  },
  {
   "cell_type": "code",
   "execution_count": 4,
   "id": "c1abb947",
   "metadata": {},
   "outputs": [],
   "source": [
    "x_train, y_train, x_test, y_test = map(torch.tensor, (x_train, y_train, x_test, y_test))"
   ]
  },
  {
   "cell_type": "code",
   "execution_count": 5,
   "id": "976e9527",
   "metadata": {},
   "outputs": [],
   "source": [
    "def accuracy(y_hat, y):\n",
    "    count = 0\n",
    "    for i in range(len(y)):\n",
    "        if(y_hat[i] == y[i]):\n",
    "            count = count+1\n",
    "    return count/len(y)"
   ]
  },
  {
   "cell_type": "code",
   "execution_count": 6,
   "id": "964b8d16",
   "metadata": {},
   "outputs": [],
   "source": [
    "x_train = x_train.float()\n",
    "y_train = y_train.long()\n",
    "x_test = x_test.float()\n",
    "y_test = y_test.long()"
   ]
  },
  {
   "cell_type": "code",
   "execution_count": 7,
   "id": "87486ce6",
   "metadata": {},
   "outputs": [],
   "source": [
    "import torch.nn as nn\n",
    "from torch import optim\n",
    "\n",
    "class FirstNetwork_v3(nn.Module):\n",
    "  \n",
    "  def __init__(self):\n",
    "    super().__init__()\n",
    "    torch.manual_seed(0)\n",
    "    self.net = nn.Sequential(\n",
    "        nn.Linear(9, 64), \n",
    "        nn.ReLU(),\n",
    "        nn.Linear(64, 32),\n",
    "        nn.ReLU(),\n",
    "        nn.Linear(32, 4), \n",
    "        nn.Softmax()\n",
    "    )\n",
    "\n",
    "  def forward(self, X):\n",
    "    return self.net(X)\n",
    "\n",
    "  def predict(self, X):\n",
    "    Y_pred = self.forward(X)\n",
    "    return Y_pred"
   ]
  },
  {
   "cell_type": "code",
   "execution_count": 8,
   "id": "d225050c",
   "metadata": {},
   "outputs": [],
   "source": [
    "history = []"
   ]
  },
  {
   "cell_type": "code",
   "execution_count": 9,
   "id": "baba574d",
   "metadata": {},
   "outputs": [],
   "source": [
    "def fit_v2(x, y, model, opt, loss_fn, epochs = 1000):\n",
    "  \n",
    "  for epoch in range(epochs):\n",
    "    loss = loss_fn(model(x), y)\n",
    "    loss.backward()\n",
    "    opt.step()\n",
    "    opt.zero_grad()\n",
    "    history.append(loss.item())\n",
    "  return loss.item()"
   ]
  },
  {
   "cell_type": "code",
   "execution_count": 10,
   "id": "79c37bb3",
   "metadata": {
    "scrolled": true
   },
   "outputs": [
    {
     "name": "stderr",
     "output_type": "stream",
     "text": [
      "C:\\Users\\김진홍\\AppData\\Local\\Programs\\Python\\Python310\\lib\\site-packages\\torch\\nn\\modules\\container.py:141: UserWarning: Implicit dimension choice for softmax has been deprecated. Change the call to include dim=X as an argument.\n",
      "  input = module(input)\n"
     ]
    },
    {
     "name": "stdout",
     "output_type": "stream",
     "text": [
      "Final loss 1.0835288763046265\n"
     ]
    }
   ],
   "source": [
    "fn = FirstNetwork_v3()\n",
    "loss_fn = F.cross_entropy\n",
    "opt = optim.Rprop(fn.parameters(), lr=0.001)\n",
    "fit_v2(x_train, y_train, fn, opt, loss_fn)\n",
    "loss = history[-1]\n",
    "print('Final loss', loss)"
   ]
  },
  {
   "cell_type": "code",
   "execution_count": 11,
   "id": "51df0508",
   "metadata": {},
   "outputs": [
    {
     "data": {
      "image/png": "[encoded data removed]",
      "text/plain": [
       "<Figure size 432x288 with 1 Axes>"
      ]
     },
     "metadata": {
      "needs_background": "light"
     },
     "output_type": "display_data"
    }
   ],
   "source": [
    "plt.plot(history)\n",
    "plt.xlabel('epochs')\n",
    "plt.ylabel('training loss')\n",
    "plt.show()"
   ]
  },
  {
   "cell_type": "code",
   "execution_count": 12,
   "id": "cde46c9d",
   "metadata": {},
   "outputs": [
    {
     "name": "stderr",
     "output_type": "stream",
     "text": [
      "C:\\Users\\김진홍\\AppData\\Local\\Programs\\Python\\Python310\\lib\\site-packages\\torch\\nn\\modules\\container.py:141: UserWarning: Implicit dimension choice for softmax has been deprecated. Change the call to include dim=X as an argument.\n",
      "  input = module(input)\n"
     ]
    }
   ],
   "source": [
    "from sklearn.metrics import confusion_matrix\n",
    "import seaborn as sn\n",
    "\n",
    "y_pred = [fn.predict(sample).tolist().index(max(fn.predict(sample).tolist())) for sample in x_test]\n",
    "y_true = [sample.item() for sample in y_test]"
   ]
  },
  {
   "cell_type": "code",
   "execution_count": 13,
   "id": "170fd0e8",
   "metadata": {
    "scrolled": false
   },
   "outputs": [
    {
     "data": {
      "image/png": "[encoded data removed]",
      "text/plain": [
       "<Figure size 864x504 with 2 Axes>"
      ]
     },
     "metadata": {
      "needs_background": "light"
     },
     "output_type": "display_data"
    }
   ],
   "source": [
    "classes = ('0', '1', '2', '3')\n",
    "\n",
    "cf_matrix = confusion_matrix(y_true, y_pred)\n",
    "df_cm = pd.DataFrame(cf_matrix/np.sum(cf_matrix) *10, index = [i for i in classes],\n",
    "                     columns = [i for i in classes])\n",
    "plt.figure(figsize = (12,7))\n",
    "sn.heatmap(df_cm, annot=True)\n",
    "plt.show()"
   ]
  },
  {
   "cell_type": "code",
   "execution_count": 14,
   "id": "a98d246e",
   "metadata": {},
   "outputs": [
    {
     "name": "stdout",
     "output_type": "stream",
     "text": [
      "0.6021998166819432\n"
     ]
    }
   ],
   "source": [
    "print(accuracy(y_pred, y_true))"
   ]
  },
  {
   "cell_type": "code",
   "execution_count": null,
   "id": "a27ad58c",
   "metadata": {},
   "outputs": [],
   "source": []
  }
 ],
 "metadata": {
  "kernelspec": {
   "display_name": "Python 3 (ipykernel)",
   "language": "python",
   "name": "python3"
  },
  "language_info": {
   "codemirror_mode": {
    "name": "ipython",
    "version": 3
   },
   "file_extension": ".py",
   "mimetype": "text/x-python",
   "name": "python",
   "nbconvert_exporter": "python",
   "pygments_lexer": "ipython3",
   "version": "3.10.4"
  }
 },
 "nbformat": 4,
 "nbformat_minor": 5
}
